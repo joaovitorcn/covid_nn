{
 "cells": [
  {
   "cell_type": "markdown",
   "metadata": {
    "colab_type": "text",
    "id": "nStAgFXDGsAI"
   },
   "source": [
    "## Regressão Logistica  MG\n",
    "\n"
   ]
  },
  {
   "cell_type": "code",
   "execution_count": 1,
   "metadata": {
    "colab": {
     "base_uri": "https://localhost:8080/",
     "height": 51
    },
    "colab_type": "code",
    "id": "XOx0NMceoKvL",
    "outputId": "5a328af0-6f2e-4fb3-f7a2-34d6af8c4a76"
   },
   "outputs": [],
   "source": [
    "import pandas as pd\n",
    "from sklearn.linear_model import LogisticRegression\n",
    "from sklearn.model_selection import train_test_split\n",
    "import collections\n",
    "import numpy as np\n",
    "import re\n",
    "from functions import logistic_reg,xg_boost\n",
    "import seaborn as sns\n",
    "import matplotlib.pyplot as plt\n",
    "import pickle\n",
    "\n"
   ]
  },
  {
   "cell_type": "code",
   "execution_count": 2,
   "metadata": {
    "colab": {},
    "colab_type": "code",
    "id": "DDslk42KIow8"
   },
   "outputs": [],
   "source": [
    "def normalize(df_series):\n",
    "  return   df_series / df_series.max()\n"
   ]
  },
  {
   "cell_type": "code",
   "execution_count": 3,
   "metadata": {
    "colab": {
     "base_uri": "https://localhost:8080/",
     "height": 68
    },
    "colab_type": "code",
    "id": "L0f2tXsjpM5a",
    "outputId": "5a950c81-f008-431b-f46c-4ab785aab7cc"
   },
   "outputs": [
    {
     "name": "stdout",
     "output_type": "stream",
     "text": [
      "Colunas: ['ID' 'CONTADOR' 'DATA_NOTIFICACAO' 'CLASSIFICACAO_CASO' 'SEXO' 'IDADE'\n",
      " 'FAIXA_ETARIA' 'MUNICIPIO_RESIDENCIA_COD' 'MUNICIPIO_RESIDENCIA'\n",
      " 'COMORBIDADE' 'EVOLUCAO' 'INTERNACAO' 'UTI' 'DATA_ATUALIZACAO']\n"
     ]
    }
   ],
   "source": [
    "data = pd.read_csv('notificacoes-covid19-mg.csv',sep=';',encoding='iso-8859-1')\n",
    "data_original = data\n",
    "print('Colunas: {}'.format(data.columns.values))\n",
    "\n",
    "data = data.loc[data['EVOLUCAO'] !='EM ACOMPANHAMENTO']\n",
    "\n",
    "data = data.loc[data['INTERNACAO'] !='nao_informado']\n",
    "\n",
    "data = data.drop(columns=['ID','CONTADOR','DATA_NOTIFICACAO','DATA_ATUALIZACAO','MUNICIPIO_RESIDENCIA_COD','EVOLUCAO'])\n",
    "\n",
    "data.head()\n",
    "\n",
    "data['IDADE'] = normalize(data['IDADE'])"
   ]
  },
  {
   "cell_type": "code",
   "execution_count": 4,
   "metadata": {
    "colab": {},
    "colab_type": "code",
    "id": "iukZNCdxrh-8"
   },
   "outputs": [],
   "source": [
    "#Trabalho com colunas que possuem 'Yes' e 'No'\n",
    "\n",
    "columns = ('INTERNACAO','UTI')\n",
    "for x in columns:\n",
    "  data[x] = data[x].map(dict(sim=1, nao=0))\n",
    "\n",
    "\n",
    "#trabalho com colunas que possuem valores em string\n",
    "columns_dummies = ['CLASSIFICACAO_CASO','SEXO','FAIXA_ETARIA','COMORBIDADE','MUNICIPIO_RESIDENCIA']\n",
    "df_dummies = pd.DataFrame()\n",
    "for x in columns_dummies:\n",
    "  df_dummies = pd.concat([df_dummies,pd.get_dummies(data[x])],axis=1)\n",
    "data = pd.concat([data,df_dummies],axis=1)\n",
    "\n",
    "\n",
    "#drop columns que foram criados os dummies \n",
    "columns_to_drop = columns_dummies \n",
    "data = data.drop(columns=columns_to_drop)\n",
    "\n",
    "\n",
    "#transformar valores que faltam em 0\n",
    "data = data.fillna(0)\n",
    "\n",
    "# drop UTI \n",
    "data = data.drop(columns=['UTI'])\n"
   ]
  },
  {
   "cell_type": "code",
   "execution_count": 5,
   "metadata": {
    "colab": {
     "base_uri": "https://localhost:8080/",
     "height": 111
    },
    "colab_type": "code",
    "id": "vcRgLYCMKBnN",
    "outputId": "af1fa3cb-20aa-41cb-9280-1ec97fdeb91e"
   },
   "outputs": [
    {
     "data": {
      "text/html": [
       "<div>\n",
       "<style scoped>\n",
       "    .dataframe tbody tr th:only-of-type {\n",
       "        vertical-align: middle;\n",
       "    }\n",
       "\n",
       "    .dataframe tbody tr th {\n",
       "        vertical-align: top;\n",
       "    }\n",
       "\n",
       "    .dataframe thead th {\n",
       "        text-align: right;\n",
       "    }\n",
       "</style>\n",
       "<table border=\"1\" class=\"dataframe\">\n",
       "  <thead>\n",
       "    <tr style=\"text-align: right;\">\n",
       "      <th></th>\n",
       "      <th>INTERNACAO</th>\n",
       "      <th>porcentagem</th>\n",
       "    </tr>\n",
       "  </thead>\n",
       "  <tbody>\n",
       "    <tr>\n",
       "      <th>0</th>\n",
       "      <td>9961</td>\n",
       "      <td>0.813408</td>\n",
       "    </tr>\n",
       "    <tr>\n",
       "      <th>1</th>\n",
       "      <td>2285</td>\n",
       "      <td>0.186592</td>\n",
       "    </tr>\n",
       "  </tbody>\n",
       "</table>\n",
       "</div>"
      ],
      "text/plain": [
       "   INTERNACAO  porcentagem\n",
       "0        9961     0.813408\n",
       "1        2285     0.186592"
      ]
     },
     "execution_count": 5,
     "metadata": {},
     "output_type": "execute_result"
    }
   ],
   "source": [
    "#distribuição de 0 e 1\n",
    "y= 'INTERNACAO'\n",
    "porc = pd.DataFrame(data[y].value_counts())\n",
    "porc['porcentagem'] = porc[y] / np.sum(data[y].value_counts().values)\n",
    "porc"
   ]
  },
  {
   "cell_type": "code",
   "execution_count": 6,
   "metadata": {
    "colab": {
     "base_uri": "https://localhost:8080/",
     "height": 238
    },
    "colab_type": "code",
    "id": "AMahci0MndPr",
    "outputId": "496517ba-020a-4d74-bad9-28e32e7a931d"
   },
   "outputs": [],
   "source": [
    "#logistic_reg(data,y)"
   ]
  },
  {
   "cell_type": "code",
   "execution_count": null,
   "metadata": {
    "colab": {},
    "colab_type": "code",
    "id": "7GLrXRX7ctaV"
   },
   "outputs": [],
   "source": []
  },
  {
   "cell_type": "markdown",
   "metadata": {
    "colab_type": "text",
    "id": "amwfWW9Vqlyz"
   },
   "source": [
    "\n",
    "# Regressão RS\n"
   ]
  },
  {
   "cell_type": "code",
   "execution_count": 7,
   "metadata": {
    "colab": {
     "base_uri": "https://localhost:8080/",
     "height": 119
    },
    "colab_type": "code",
    "id": "B2JBu0qNctdP",
    "outputId": "d2e59384-bec9-461e-a712-d16a074e9a0c"
   },
   "outputs": [
    {
     "name": "stdout",
     "output_type": "stream",
     "text": [
      "Index(['COD_IBGE', 'MUNICIPIO', 'COD_REGIAO_COVID', 'REGIAO_COVID', 'SEXO',\n",
      "       'FAIXAETARIA', 'CRITERIO', 'DATA_CONFIRMACAO', 'DATA_SINTOMAS',\n",
      "       'DATA_EVOLUCAO', 'EVOLUCAO', 'HOSPITALIZACAO', 'FEBRE', 'TOSSE',\n",
      "       'GARGANTA', 'DISPNEIA', 'OUTROS', 'COMORBIDADES', 'DATA_INCLUSAO_OBITO',\n",
      "       'DATA_EVOLUCAO_ESTIMADA', 'RACA_COR'],\n",
      "      dtype='object')\n"
     ]
    },
    {
     "data": {
      "text/plain": [
       "21"
      ]
     },
     "execution_count": 7,
     "metadata": {},
     "output_type": "execute_result"
    }
   ],
   "source": [
    "dates = ['DATA_SINTOMAS','DATA_CONFIRMACAO','DATA_EVOLUCAO','DATA_EVOLUCAO_ESTIMADA']\n",
    "data_rs = pd.read_csv('20200702.csv',sep=';',encoding='iso-8859-1',parse_dates=dates)\n",
    "data_original_rs = data_rs \n",
    "print(data_rs.columns)\n",
    "\n",
    "not_dates= [x for x in list(data_rs.columns) if x not in dates]\n",
    "\n",
    "len(data_rs.columns)"
   ]
  },
  {
   "cell_type": "code",
   "execution_count": 8,
   "metadata": {
    "colab": {},
    "colab_type": "code",
    "id": "altVHrJSrqVv"
   },
   "outputs": [
    {
     "name": "stdout",
     "output_type": "stream",
     "text": [
      "12\n",
      "480\n",
      "28171\n"
     ]
    },
    {
     "data": {
      "text/plain": [
       "23931"
      ]
     },
     "execution_count": 8,
     "metadata": {},
     "output_type": "execute_result"
    }
   ],
   "source": [
    "data_rs = data_rs.drop(columns=['COD_IBGE','REGIAO_COVID','COD_REGIAO_COVID','DATA_CONFIRMACAO','DATA_SINTOMAS','DATA_EVOLUCAO','RACA_COR','DATA_EVOLUCAO_ESTIMADA',\n",
    "                                'DATA_INCLUSAO_OBITO'])\n",
    "print(len(data_rs.columns))\n",
    "\n",
    "columns = ('HOSPITALIZACAO','FEBRE','TOSSE','GARGANTA','DISPNEIA','OUTROS')\n",
    "for x in columns:\n",
    "    data_rs[x] = data_rs[x].map(dict(sim=1, nao=0,SIM=1,NAO=0,Sim=1,Nao=0))\n",
    "\n",
    "\n",
    "\n",
    "#trabalho com colunas que possuem valores em string\n",
    "columns_dummies = ['MUNICIPIO','SEXO','FAIXAETARIA','CRITERIO']\n",
    "df_dummies = pd.DataFrame()\n",
    "for x in columns_dummies:\n",
    "    df_dummies = pd.concat([df_dummies,pd.get_dummies(data_rs[x])],axis=1)\n",
    "data_rs = pd.concat([data_rs,df_dummies],axis=1)\n",
    "\n",
    "\n",
    "#morbidades dummies\n",
    "morb_dummies = data_rs['COMORBIDADES'].str.get_dummies(sep=',')\n",
    "\n",
    "data_rs = pd.concat([data_rs,morb_dummies],axis=1)\n",
    "\n",
    "\n",
    "data_rs = data_rs.fillna(-9999)\n",
    "\n",
    "\n",
    "\n",
    "#drop columns que foram criados os dummies e variaveis não utilziadas\n",
    "columns_to_drop = columns_dummies + [\"COMORBIDADES\"]\n",
    "data_rs = data_rs.drop(columns=columns_to_drop)\n",
    "\n",
    "\n",
    "\n",
    "regex = re.compile(r\"\\[|\\]|<\", re.IGNORECASE)\n",
    "data_rs.columns = [regex.sub(\"_\", col) if any(x in str(col) for x in set(('[', ']', '<'))) else col for col in data_rs.columns.values]\n",
    "print(len(data_rs.columns))\n",
    "print(len(data_rs))\n",
    "data_rs = data_rs.loc[data_rs['EVOLUCAO'] != 'EM ACOMPANHAMENTO']\n",
    "data_rs = data_rs.drop(columns=['EVOLUCAO'])\n",
    "\n",
    "len(data_rs)"
   ]
  },
  {
   "cell_type": "code",
   "execution_count": 9,
   "metadata": {
    "colab": {},
    "colab_type": "code",
    "id": "x0j9iYH9SRbr"
   },
   "outputs": [],
   "source": [
    "with open('cols.pkl', 'wb') as f:\n",
    "    pickle.dump(data_rs.columns.values, f)\n"
   ]
  },
  {
   "cell_type": "code",
   "execution_count": 10,
   "metadata": {
    "colab": {
     "base_uri": "https://localhost:8080/",
     "height": 111
    },
    "colab_type": "code",
    "id": "5ETr2cRbq40D",
    "outputId": "99e194f7-7a93-45ed-fba0-3a61644f993c"
   },
   "outputs": [
    {
     "data": {
      "text/html": [
       "<div>\n",
       "<style scoped>\n",
       "    .dataframe tbody tr th:only-of-type {\n",
       "        vertical-align: middle;\n",
       "    }\n",
       "\n",
       "    .dataframe tbody tr th {\n",
       "        vertical-align: top;\n",
       "    }\n",
       "\n",
       "    .dataframe thead th {\n",
       "        text-align: right;\n",
       "    }\n",
       "</style>\n",
       "<table border=\"1\" class=\"dataframe\">\n",
       "  <thead>\n",
       "    <tr style=\"text-align: right;\">\n",
       "      <th></th>\n",
       "      <th>HOSPITALIZACAO</th>\n",
       "      <th>porcentagem</th>\n",
       "    </tr>\n",
       "  </thead>\n",
       "  <tbody>\n",
       "    <tr>\n",
       "      <th>0</th>\n",
       "      <td>21161</td>\n",
       "      <td>0.884251</td>\n",
       "    </tr>\n",
       "    <tr>\n",
       "      <th>1</th>\n",
       "      <td>2770</td>\n",
       "      <td>0.115749</td>\n",
       "    </tr>\n",
       "  </tbody>\n",
       "</table>\n",
       "</div>"
      ],
      "text/plain": [
       "   HOSPITALIZACAO  porcentagem\n",
       "0           21161     0.884251\n",
       "1            2770     0.115749"
      ]
     },
     "execution_count": 10,
     "metadata": {},
     "output_type": "execute_result"
    }
   ],
   "source": [
    "#distribuição de 0 e 1\n",
    "y= 'HOSPITALIZACAO'\n",
    "porc = pd.DataFrame(data_rs[y].value_counts())\n",
    "porc['porcentagem'] = porc[y] / np.sum(data_rs[y].value_counts().values)\n",
    "porc"
   ]
  },
  {
   "cell_type": "code",
   "execution_count": 11,
   "metadata": {
    "colab": {
     "base_uri": "https://localhost:8080/",
     "height": 238
    },
    "colab_type": "code",
    "id": "tHFu1ZtNtEiK",
    "outputId": "6c7e23fc-99e1-4ba4-f42d-5c91e66ceaf1"
   },
   "outputs": [
    {
     "name": "stdout",
     "output_type": "stream",
     "text": [
      "Numero de 0: 3242, %: 0.9030640668523677 \n",
      "Numero de 1: 348, %: 0.09693593314763231\n",
      "\n",
      "Accuracy: 96.91%\n",
      "Resultado\n",
      "Correto Negativo    3154\n",
      "Correto Positivo     325\n",
      "Falso Negativo        88\n",
      "Falso Positivo        23\n",
      "Name: predict, dtype: int64\n",
      "\n",
      "Taxa de Acerto Negativos:97.3% \n",
      "Taxa de Acerto Positivos: 93.4%\n"
     ]
    }
   ],
   "source": [
    "logistic_reg(data_rs,y)"
   ]
  },
  {
   "cell_type": "markdown",
   "metadata": {
    "colab_type": "text",
    "id": "yo82A9X4Okzb"
   },
   "source": [
    "#XGBoost RS\n"
   ]
  },
  {
   "cell_type": "code",
   "execution_count": 12,
   "metadata": {
    "colab": {
     "base_uri": "https://localhost:8080/",
     "height": 238
    },
    "colab_type": "code",
    "id": "s8EQthabOnyi",
    "outputId": "092e5b49-41d0-4a4a-bc33-2728c7833e98"
   },
   "outputs": [
    {
     "name": "stdout",
     "output_type": "stream",
     "text": [
      "Numero de 0: 3230, %: 0.8997214484679665 \n",
      "Numero de 1: 360, %: 0.10027855153203342\n",
      "\n",
      "Accuracy: 96.91%\n",
      "Resultado\n",
      "Correto Negativo    3148\n",
      "Correto Positivo     331\n",
      "Falso Negativo        82\n",
      "Falso Positivo        29\n",
      "Name: predict, dtype: int64\n",
      "\n",
      "Taxa de Acerto Negativos:97.5% \n",
      "Taxa de Acerto Positivos: 91.9%\n"
     ]
    }
   ],
   "source": [
    "xg_boost(data_rs,y)\n"
   ]
  },
  {
   "cell_type": "markdown",
   "metadata": {
    "colab_type": "text",
    "id": "6rdg-ISuuTvI"
   },
   "source": [
    "# RS Data Exploration"
   ]
  },
  {
   "cell_type": "code",
   "execution_count": 13,
   "metadata": {
    "colab": {
     "base_uri": "https://localhost:8080/",
     "height": 119
    },
    "colab_type": "code",
    "id": "x4JSomopufjt",
    "outputId": "2374683a-8c15-4e7b-98bc-fdc20167070a"
   },
   "outputs": [
    {
     "name": "stdout",
     "output_type": "stream",
     "text": [
      "Index(['COD_IBGE', 'MUNICIPIO', 'COD_REGIAO_COVID', 'REGIAO_COVID', 'SEXO',\n",
      "       'FAIXAETARIA', 'CRITERIO', 'DATA_CONFIRMACAO', 'DATA_SINTOMAS',\n",
      "       'DATA_EVOLUCAO', 'EVOLUCAO', 'HOSPITALIZACAO', 'FEBRE', 'TOSSE',\n",
      "       'GARGANTA', 'DISPNEIA', 'OUTROS', 'COMORBIDADES', 'DATA_INCLUSAO_OBITO',\n",
      "       'DATA_EVOLUCAO_ESTIMADA', 'RACA_COR'],\n",
      "      dtype='object')\n"
     ]
    }
   ],
   "source": [
    "data_original_rs.head()\n",
    "print(data_original_rs.columns)\n"
   ]
  },
  {
   "cell_type": "code",
   "execution_count": 14,
   "metadata": {
    "colab": {
     "base_uri": "https://localhost:8080/",
     "height": 386
    },
    "colab_type": "code",
    "id": "7mCOhX2Lwn_m",
    "outputId": "bdc0abba-c3f5-4abb-faa9-5cd99599cc93"
   },
   "outputs": [
    {
     "data": {
      "text/plain": [
       "<seaborn.axisgrid.FacetGrid at 0x1c5ea12ed88>"
      ]
     },
     "execution_count": 14,
     "metadata": {},
     "output_type": "execute_result"
    },
    {
     "data": {
      "image/png": "[encoded data removed]",
      "text/plain": [
       "<Figure size 1080x360 with 3 Axes>"
      ]
     },
     "metadata": {
      "needs_background": "light"
     },
     "output_type": "display_data"
    }
   ],
   "source": [
    "sns.catplot(data=data_original_rs,x='HOSPITALIZACAO',kind=\"count\",col='EVOLUCAO')\n",
    "\n"
   ]
  },
  {
   "cell_type": "code",
   "execution_count": 15,
   "metadata": {
    "colab": {},
    "colab_type": "code",
    "id": "oiq1VWhS0i13"
   },
   "outputs": [
    {
     "data": {
      "text/html": [
       "<div>\n",
       "<style scoped>\n",
       "    .dataframe tbody tr th:only-of-type {\n",
       "        vertical-align: middle;\n",
       "    }\n",
       "\n",
       "    .dataframe tbody tr th {\n",
       "        vertical-align: top;\n",
       "    }\n",
       "\n",
       "    .dataframe thead th {\n",
       "        text-align: right;\n",
       "    }\n",
       "</style>\n",
       "<table border=\"1\" class=\"dataframe\">\n",
       "  <thead>\n",
       "    <tr style=\"text-align: right;\">\n",
       "      <th></th>\n",
       "      <th>COD_IBGE</th>\n",
       "      <th>MUNICIPIO</th>\n",
       "      <th>COD_REGIAO_COVID</th>\n",
       "      <th>REGIAO_COVID</th>\n",
       "      <th>SEXO</th>\n",
       "      <th>FAIXAETARIA</th>\n",
       "      <th>CRITERIO</th>\n",
       "      <th>DATA_CONFIRMACAO</th>\n",
       "      <th>DATA_SINTOMAS</th>\n",
       "      <th>DATA_EVOLUCAO</th>\n",
       "      <th>EVOLUCAO</th>\n",
       "      <th>FEBRE</th>\n",
       "      <th>TOSSE</th>\n",
       "      <th>GARGANTA</th>\n",
       "      <th>DISPNEIA</th>\n",
       "      <th>OUTROS</th>\n",
       "      <th>COMORBIDADES</th>\n",
       "      <th>DATA_INCLUSAO_OBITO</th>\n",
       "      <th>DATA_EVOLUCAO_ESTIMADA</th>\n",
       "      <th>RACA_COR</th>\n",
       "    </tr>\n",
       "    <tr>\n",
       "      <th>HOSPITALIZACAO</th>\n",
       "      <th></th>\n",
       "      <th></th>\n",
       "      <th></th>\n",
       "      <th></th>\n",
       "      <th></th>\n",
       "      <th></th>\n",
       "      <th></th>\n",
       "      <th></th>\n",
       "      <th></th>\n",
       "      <th></th>\n",
       "      <th></th>\n",
       "      <th></th>\n",
       "      <th></th>\n",
       "      <th></th>\n",
       "      <th></th>\n",
       "      <th></th>\n",
       "      <th></th>\n",
       "      <th></th>\n",
       "      <th></th>\n",
       "      <th></th>\n",
       "    </tr>\n",
       "  </thead>\n",
       "  <tbody>\n",
       "    <tr>\n",
       "      <th>Nao</th>\n",
       "      <td>24717</td>\n",
       "      <td>24717</td>\n",
       "      <td>24717</td>\n",
       "      <td>24717</td>\n",
       "      <td>24717</td>\n",
       "      <td>24717</td>\n",
       "      <td>24717</td>\n",
       "      <td>24717</td>\n",
       "      <td>24717</td>\n",
       "      <td>2</td>\n",
       "      <td>24717</td>\n",
       "      <td>24661</td>\n",
       "      <td>24661</td>\n",
       "      <td>24661</td>\n",
       "      <td>24441</td>\n",
       "      <td>24661</td>\n",
       "      <td>2202</td>\n",
       "      <td>2</td>\n",
       "      <td>21159</td>\n",
       "      <td>24717</td>\n",
       "    </tr>\n",
       "    <tr>\n",
       "      <th>Sim</th>\n",
       "      <td>3454</td>\n",
       "      <td>3454</td>\n",
       "      <td>3454</td>\n",
       "      <td>3454</td>\n",
       "      <td>3454</td>\n",
       "      <td>3454</td>\n",
       "      <td>3454</td>\n",
       "      <td>3454</td>\n",
       "      <td>3454</td>\n",
       "      <td>2584</td>\n",
       "      <td>3454</td>\n",
       "      <td>3451</td>\n",
       "      <td>3451</td>\n",
       "      <td>3451</td>\n",
       "      <td>3451</td>\n",
       "      <td>3451</td>\n",
       "      <td>2322</td>\n",
       "      <td>634</td>\n",
       "      <td>203</td>\n",
       "      <td>3454</td>\n",
       "    </tr>\n",
       "  </tbody>\n",
       "</table>\n",
       "</div>"
      ],
      "text/plain": [
       "                COD_IBGE  MUNICIPIO  COD_REGIAO_COVID  REGIAO_COVID   SEXO  \\\n",
       "HOSPITALIZACAO                                                               \n",
       "Nao                24717      24717             24717         24717  24717   \n",
       "Sim                 3454       3454              3454          3454   3454   \n",
       "\n",
       "                FAIXAETARIA  CRITERIO  DATA_CONFIRMACAO  DATA_SINTOMAS  \\\n",
       "HOSPITALIZACAO                                                           \n",
       "Nao                   24717     24717             24717          24717   \n",
       "Sim                    3454      3454              3454           3454   \n",
       "\n",
       "                DATA_EVOLUCAO  EVOLUCAO  FEBRE  TOSSE  GARGANTA  DISPNEIA  \\\n",
       "HOSPITALIZACAO                                                              \n",
       "Nao                         2     24717  24661  24661     24661     24441   \n",
       "Sim                      2584      3454   3451   3451      3451      3451   \n",
       "\n",
       "                OUTROS  COMORBIDADES  DATA_INCLUSAO_OBITO  \\\n",
       "HOSPITALIZACAO                                              \n",
       "Nao              24661          2202                    2   \n",
       "Sim               3451          2322                  634   \n",
       "\n",
       "                DATA_EVOLUCAO_ESTIMADA  RACA_COR  \n",
       "HOSPITALIZACAO                                    \n",
       "Nao                              21159     24717  \n",
       "Sim                                203      3454  "
      ]
     },
     "execution_count": 15,
     "metadata": {},
     "output_type": "execute_result"
    }
   ],
   "source": [
    "data_original_rs.groupby('HOSPITALIZACAO').count()\n"
   ]
  },
  {
   "cell_type": "code",
   "execution_count": null,
   "metadata": {
    "colab": {},
    "colab_type": "code",
    "id": "sH4eNu_azKFl"
   },
   "outputs": [],
   "source": []
  }
 ],
 "metadata": {
  "colab": {
   "collapsed_sections": [],
   "name": "Real RL",
   "provenance": []
  },
  "kernelspec": {
   "display_name": "Python 3",
   "language": "python",
   "name": "python3"
  },
  "language_info": {
   "codemirror_mode": {
    "name": "ipython",
    "version": 3
   },
   "file_extension": ".py",
   "mimetype": "text/x-python",
   "name": "python",
   "nbconvert_exporter": "python",
   "pygments_lexer": "ipython3",
   "version": "3.7.4"
  }
 },
 "nbformat": 4,
 "nbformat_minor": 4
}
