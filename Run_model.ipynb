{
 "cells": [
  {
   "cell_type": "code",
   "execution_count": 1,
   "metadata": {},
   "outputs": [
    {
     "data": {
      "text/plain": [
       "'aaa\\n\\n1- Abrir o modelo salvo e testar para os pacientes que estão em tratamento atualmente\\n2- Ver o número de pessoas atualmente hospitalizadas\\n\\n\\n'"
      ]
     },
     "execution_count": 1,
     "metadata": {},
     "output_type": "execute_result"
    }
   ],
   "source": [
    "'''aaa\n",
    "\n",
    "1- Abrir o modelo salvo e testar para os pacientes que estão em tratamento atualmente\n",
    "2- Ver o número de pessoas atualmente hospitalizadas\n",
    "\n",
    "\n",
    "'''"
   ]
  },
  {
   "cell_type": "code",
   "execution_count": 2,
   "metadata": {},
   "outputs": [],
   "source": [
    "import pandas as pd\n",
    "from sklearn.linear_model import LogisticRegression\n",
    "from sklearn.model_selection import train_test_split\n",
    "import collections\n",
    "import numpy as np\n",
    "import re\n",
    "from functions import logistic_reg,xg_boost,process_data_rs,run_xgboost,resultado,run_logreg,run_deepnn,run_convnet\n",
    "import seaborn as sns\n",
    "import matplotlib.pyplot as plt\n",
    "import pickle\n"
   ]
  },
  {
   "cell_type": "code",
   "execution_count": 3,
   "metadata": {},
   "outputs": [
    {
     "data": {
      "text/plain": [
       "21"
      ]
     },
     "execution_count": 3,
     "metadata": {},
     "output_type": "execute_result"
    }
   ],
   "source": [
    "dates = ['DATA_SINTOMAS','DATA_CONFIRMACAO','DATA_EVOLUCAO','DATA_EVOLUCAO_ESTIMADA']\n",
    "df = pd.read_csv('20200702.csv',sep=';',encoding='iso-8859-1',parse_dates=dates)\n",
    "\n",
    "len(df.columns)"
   ]
  },
  {
   "cell_type": "code",
   "execution_count": 4,
   "metadata": {},
   "outputs": [],
   "source": [
    "process_data = process_data_rs(df)\n",
    "process_data = process_data.loc[process_data['EVOLUCAO'] == 'EM ACOMPANHAMENTO']\n",
    "process_data = process_data.drop(columns=['EVOLUCAO'])\n",
    "\n",
    "data = model = pickle.load(open(\"cols.pkl\", 'rb'))\n",
    "cols = list(process_data.columns.values)\n",
    "\n",
    "for x in data:\n",
    "    if not x in cols:\n",
    "        process_data[x] = 0\n",
    "        \n",
    "for x in cols:\n",
    "    if not x in data:\n",
    "        process_data = process_data.drop(columns=[x])\n",
    "        \n",
    "x_run = process_data.drop(columns=['HOSPITALIZACAO'])\n",
    "y_run = process_data['HOSPITALIZACAO']"
   ]
  },
  {
   "cell_type": "code",
   "execution_count": 12,
   "metadata": {},
   "outputs": [
    {
     "name": "stdout",
     "output_type": "stream",
     "text": [
      "Casos Totais: 28171\n",
      "Casos Hospitalizados Totais:3454\n",
      "Casos Em Acompanhamento Atuais: 4240\n",
      "Casos Hospitalizados Atuais: 684\n",
      "Porcentagem de Hospitalização para Acompanhamento:16.1%\n",
      "Porcentagem de Hospitalização para Encerrados:11.6%\n"
     ]
    }
   ],
   "source": [
    "print('Casos Totais: {}'.format(df['HOSPITALIZACAO'].value_counts().sum()))\n",
    "print('Casos Hospitalizados Totais:{}'.format(df['HOSPITALIZACAO'].value_counts().values[1]))\n",
    "print('Casos Em Acompanhamento Atuais: {}'.format(df.loc[df['EVOLUCAO'] == 'EM ACOMPANHAMENTO']['EVOLUCAO'].value_counts().sum()))\n",
    "print('Casos Hospitalizados Atuais: {}'.format(y_run.value_counts()[1]))\n",
    "    \n",
    "porc_em_acomp = em_acompanhamento['HOSPITALIZACAO'].value_counts()[1]/em_acompanhamento['HOSPITALIZACAO'].value_counts().sum()\n",
    "porc_nao_acomp = nao_acomp['HOSPITALIZACAO'].value_counts()[1]/nao_acomp['HOSPITALIZACAO'].value_counts().sum()\n",
    "\n",
    "print('Porcentagem de Hospitalização para Acompanhamento:{:.1%}'.format(porc_em_acomp))\n",
    "print('Porcentagem de Hospitalização para Encerrados:{:.1%}'.format(porc_nao_acomp))\n"
   ]
  },
  {
   "cell_type": "code",
   "execution_count": 6,
   "metadata": {},
   "outputs": [
    {
     "name": "stdout",
     "output_type": "stream",
     "text": [
      "Running XGBOOST\n",
      "Numero de 0: 3653, 86.2% \n",
      "Numero de 1: 587, 13.8%\n",
      "\n",
      "Accuracy: 95.87%\n",
      "Resultado\n",
      "Correto Negativo    3517\n",
      "Correto Positivo     548\n",
      "Falso Negativo       136\n",
      "Falso Positivo        39\n",
      "Name: predict, dtype: int64\n",
      "\n",
      "Taxa de Acerto Negativos:98.9% \n",
      "Taxa de Acerto Positivos: 80.1%\n"
     ]
    }
   ],
   "source": [
    "predict = run_xgboost(x_run)\n",
    "print('Running XGBOOST')\n",
    "resultado(y_run,predict)\n"
   ]
  },
  {
   "cell_type": "code",
   "execution_count": 7,
   "metadata": {},
   "outputs": [
    {
     "name": "stdout",
     "output_type": "stream",
     "text": [
      "Running Log Reg\n",
      "Numero de 0: 3670, 86.6% \n",
      "Numero de 1: 570, 13.4%\n",
      "\n",
      "Accuracy: 96.04%\n",
      "Resultado\n",
      "Correto Negativo    3529\n",
      "Correto Positivo     543\n",
      "Falso Negativo       141\n",
      "Falso Positivo        27\n",
      "Name: predict, dtype: int64\n",
      "\n",
      "Taxa de Acerto Negativos:99.2% \n",
      "Taxa de Acerto Positivos: 79.4%\n"
     ]
    }
   ],
   "source": [
    "predict = run_logreg(x_run)\n",
    "print('Running Log Reg')\n",
    "resultado(y_run,predict)"
   ]
  },
  {
   "cell_type": "code",
   "execution_count": 8,
   "metadata": {},
   "outputs": [
    {
     "name": "stdout",
     "output_type": "stream",
     "text": [
      "Running Convolutional Neural Network\n",
      "Numero de 0: 3606, 85.0% \n",
      "Numero de 1: 634, 15.0%\n",
      "\n",
      "Accuracy: 95.42%\n",
      "Resultado\n",
      "Correto Negativo    3484\n",
      "Correto Positivo     562\n",
      "Falso Negativo       122\n",
      "Falso Positivo        72\n",
      "Name: predict, dtype: int64\n",
      "\n",
      "Taxa de Acerto Negativos:98.0% \n",
      "Taxa de Acerto Positivos: 82.2%\n"
     ]
    }
   ],
   "source": [
    "predict = run_deepnn(x_run)\n",
    "print('Running Convolutional Neural Network')\n",
    "resultado(y_run,predict)"
   ]
  },
  {
   "cell_type": "code",
   "execution_count": 9,
   "metadata": {},
   "outputs": [
    {
     "name": "stdout",
     "output_type": "stream",
     "text": [
      "Running Convolutional Neural Network\n",
      "Numero de 0: 3641, 85.9% \n",
      "Numero de 1: 599, 14.1%\n",
      "\n",
      "Accuracy: 95.54%\n",
      "Resultado\n",
      "Correto Negativo    3504\n",
      "Correto Positivo     547\n",
      "Falso Negativo       137\n",
      "Falso Positivo        52\n",
      "Name: predict, dtype: int64\n",
      "\n",
      "Taxa de Acerto Negativos:98.5% \n",
      "Taxa de Acerto Positivos: 80.0%\n"
     ]
    }
   ],
   "source": [
    "predict = run_convnet(x_run)\n",
    "print('Running Convolutional Neural Network')\n",
    "resultado(y_run,predict)"
   ]
  },
  {
   "cell_type": "code",
   "execution_count": 10,
   "metadata": {},
   "outputs": [],
   "source": [
    "em_acompanhamento = df.loc[df['EVOLUCAO'] == 'EM ACOMPANHAMENTO']\n",
    "nao_acomp = df.loc[df['EVOLUCAO'] != 'EM ACOMPANHAMENTO']"
   ]
  },
  {
   "cell_type": "code",
   "execution_count": 11,
   "metadata": {},
   "outputs": [
    {
     "name": "stdout",
     "output_type": "stream",
     "text": [
      "Porcentagem de Hospitalização para Acompanhamento:16.1%\n",
      "Porcentagem de Hospitalização para Encerrados:11.6%\n"
     ]
    }
   ],
   "source": []
  },
  {
   "cell_type": "code",
   "execution_count": null,
   "metadata": {},
   "outputs": [],
   "source": []
  }
 ],
 "metadata": {
  "kernelspec": {
   "display_name": "Python 3",
   "language": "python",
   "name": "python3"
  },
  "language_info": {
   "codemirror_mode": {
    "name": "ipython",
    "version": 3
   },
   "file_extension": ".py",
   "mimetype": "text/x-python",
   "name": "python",
   "nbconvert_exporter": "python",
   "pygments_lexer": "ipython3",
   "version": "3.7.4"
  }
 },
 "nbformat": 4,
 "nbformat_minor": 4
}
